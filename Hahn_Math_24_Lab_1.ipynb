{
  "nbformat": 4,
  "nbformat_minor": 0,
  "metadata": {
    "colab": {
      "provenance": [],
      "include_colab_link": true
    },
    "kernelspec": {
      "name": "python3",
      "display_name": "Python 3"
    },
    "language_info": {
      "name": "python"
    }
  },
  "cells": [
    {
      "cell_type": "markdown",
      "metadata": {
        "id": "view-in-github",
        "colab_type": "text"
      },
      "source": [
        "<a href=\"https://colab.research.google.com/github/AxIS8/ProbNStatsReal/blob/main/Hahn_Math_24_Lab_1.ipynb\" target=\"_parent\"><img src=\"https://colab.research.google.com/assets/colab-badge.svg\" alt=\"Open In Colab\"/></a>"
      ]
    },
    {
      "cell_type": "markdown",
      "source": [
        "## Python Basics"
      ],
      "metadata": {
        "id": "0Lv7wtZ-iTC4"
      }
    },
    {
      "cell_type": "markdown",
      "source": [
        "### Calculator"
      ],
      "metadata": {
        "id": "eFNi_s3RiWwc"
      }
    },
    {
      "cell_type": "code",
      "source": [
        "# Comments with hashtag, python ignores this"
      ],
      "metadata": {
        "id": "5jk_lQhz0T87"
      },
      "execution_count": null,
      "outputs": []
    },
    {
      "cell_type": "code",
      "source": [
        "30.34321 + 9.12313 - 3.5567"
      ],
      "metadata": {
        "id": "Sk8TLU3biY0J"
      },
      "execution_count": null,
      "outputs": []
    },
    {
      "cell_type": "code",
      "source": [
        "2*2"
      ],
      "metadata": {
        "id": "R-u5seQsh_RF"
      },
      "execution_count": null,
      "outputs": []
    },
    {
      "cell_type": "code",
      "source": [
        "2**8"
      ],
      "metadata": {
        "id": "OhzaZtPch_Yb"
      },
      "execution_count": null,
      "outputs": []
    },
    {
      "cell_type": "code",
      "source": [
        "2**123"
      ],
      "metadata": {
        "id": "yt6iRMB8h_a2"
      },
      "execution_count": null,
      "outputs": []
    },
    {
      "cell_type": "code",
      "source": [
        "2**12345"
      ],
      "metadata": {
        "id": "Ej6lPOmHh_dh",
        "collapsed": true
      },
      "execution_count": null,
      "outputs": []
    },
    {
      "cell_type": "code",
      "source": [
        "import sys\n",
        "sys.set_int_max_str_digits(100000)\n",
        "2**45678"
      ],
      "metadata": {
        "id": "0_Tjv73WXg67"
      },
      "execution_count": null,
      "outputs": []
    },
    {
      "cell_type": "code",
      "source": [
        "8/4"
      ],
      "metadata": {
        "id": "HWnnfszJzi1N"
      },
      "execution_count": null,
      "outputs": []
    },
    {
      "cell_type": "code",
      "source": [
        "8//4"
      ],
      "metadata": {
        "id": "NzDS65ewzkDe"
      },
      "execution_count": null,
      "outputs": []
    },
    {
      "cell_type": "code",
      "source": [
        "8%12"
      ],
      "metadata": {
        "id": "MwcyFBu4zlgE"
      },
      "execution_count": null,
      "outputs": []
    },
    {
      "cell_type": "code",
      "source": [
        "13%12"
      ],
      "metadata": {
        "id": "KGMyjnL_zm-8"
      },
      "execution_count": null,
      "outputs": []
    },
    {
      "cell_type": "code",
      "source": [
        "22%12"
      ],
      "metadata": {
        "id": "YSUzBZWEzrvu"
      },
      "execution_count": null,
      "outputs": []
    },
    {
      "cell_type": "code",
      "source": [
        "24%12"
      ],
      "metadata": {
        "id": "abx0hn9jz-pB"
      },
      "execution_count": null,
      "outputs": []
    },
    {
      "cell_type": "markdown",
      "source": [
        "### Variables"
      ],
      "metadata": {
        "id": "C8SDfhEloyKH"
      }
    },
    {
      "cell_type": "code",
      "source": [
        "apples = 5"
      ],
      "metadata": {
        "id": "LMw0vkqhh_iu"
      },
      "execution_count": null,
      "outputs": []
    },
    {
      "cell_type": "code",
      "source": [
        "oranges = 8"
      ],
      "metadata": {
        "id": "RWMUvAJhh_lA"
      },
      "execution_count": null,
      "outputs": []
    },
    {
      "cell_type": "code",
      "source": [
        "total = apples + oranges"
      ],
      "metadata": {
        "id": "JFF0Q3Bhh_na"
      },
      "execution_count": null,
      "outputs": []
    },
    {
      "cell_type": "code",
      "source": [
        "total"
      ],
      "metadata": {
        "id": "fDX5SYA8h_qC"
      },
      "execution_count": null,
      "outputs": []
    },
    {
      "cell_type": "code",
      "source": [
        "apples**2"
      ],
      "metadata": {
        "id": "v3LbjRnEh_sU"
      },
      "execution_count": null,
      "outputs": []
    },
    {
      "cell_type": "code",
      "source": [
        "cost_per_apple = 0.25"
      ],
      "metadata": {
        "id": "PyMaiewtiRRu"
      },
      "execution_count": null,
      "outputs": []
    },
    {
      "cell_type": "code",
      "source": [
        "total_apple_costs = cost_per_apple * apples"
      ],
      "metadata": {
        "id": "ssPAIuNCiRT6"
      },
      "execution_count": null,
      "outputs": []
    },
    {
      "cell_type": "code",
      "source": [
        "total_apple_costs"
      ],
      "metadata": {
        "id": "NRZizjgRiRWB"
      },
      "execution_count": null,
      "outputs": []
    },
    {
      "cell_type": "markdown",
      "source": [
        "### Vectors"
      ],
      "metadata": {
        "id": "NrZeHmA2pF7-"
      }
    },
    {
      "cell_type": "code",
      "source": [
        "import numpy as np\n",
        "import matplotlib.pyplot as plt"
      ],
      "metadata": {
        "id": "8IZ5UUuriRcT"
      },
      "execution_count": null,
      "outputs": []
    },
    {
      "cell_type": "code",
      "source": [
        "np.arange(10)"
      ],
      "metadata": {
        "id": "eVVE2-PXiRe2"
      },
      "execution_count": null,
      "outputs": []
    },
    {
      "cell_type": "code",
      "source": [
        "x = np.arange(10)"
      ],
      "metadata": {
        "id": "lxDda9rPiRgr"
      },
      "execution_count": null,
      "outputs": []
    },
    {
      "cell_type": "code",
      "source": [
        "x"
      ],
      "metadata": {
        "id": "WLNa80A1iRiv"
      },
      "execution_count": null,
      "outputs": []
    },
    {
      "cell_type": "code",
      "source": [
        "y = 3 * x + 5"
      ],
      "metadata": {
        "id": "wvBymvO6iRk9"
      },
      "execution_count": null,
      "outputs": []
    },
    {
      "cell_type": "code",
      "source": [
        "y"
      ],
      "metadata": {
        "id": "R0caJJvuiRnD"
      },
      "execution_count": null,
      "outputs": []
    },
    {
      "cell_type": "code",
      "source": [
        "# x = np.array([133,24,333,4,5,6])\n",
        "# y = np.array([11,22,33,44,55,66])"
      ],
      "metadata": {
        "id": "BfLYoPWpvAft"
      },
      "execution_count": null,
      "outputs": []
    },
    {
      "cell_type": "code",
      "source": [
        "x,y"
      ],
      "metadata": {
        "id": "_mgPXYE-HS0z"
      },
      "execution_count": null,
      "outputs": []
    },
    {
      "cell_type": "markdown",
      "source": [
        "### Plotting"
      ],
      "metadata": {
        "id": "SSehamg7pVQ-"
      }
    },
    {
      "cell_type": "code",
      "source": [
        "plt.plot(x,y)"
      ],
      "metadata": {
        "id": "lv2MktRkvAru",
        "colab": {
          "base_uri": "https://localhost:8080/",
          "height": 179
        },
        "outputId": "c0eac559-d76b-45f6-b936-f061f87944a3"
      },
      "execution_count": 6,
      "outputs": [
        {
          "output_type": "error",
          "ename": "NameError",
          "evalue": "name 'x' is not defined",
          "traceback": [
            "\u001b[0;31m---------------------------------------------------------------------------\u001b[0m",
            "\u001b[0;31mNameError\u001b[0m                                 Traceback (most recent call last)",
            "\u001b[0;32m<ipython-input-6-d8b592bf313e>\u001b[0m in \u001b[0;36m<cell line: 1>\u001b[0;34m()\u001b[0m\n\u001b[0;32m----> 1\u001b[0;31m \u001b[0mplt\u001b[0m\u001b[0;34m.\u001b[0m\u001b[0mplot\u001b[0m\u001b[0;34m(\u001b[0m\u001b[0mx\u001b[0m\u001b[0;34m,\u001b[0m\u001b[0my\u001b[0m\u001b[0;34m)\u001b[0m\u001b[0;34m\u001b[0m\u001b[0;34m\u001b[0m\u001b[0m\n\u001b[0m",
            "\u001b[0;31mNameError\u001b[0m: name 'x' is not defined"
          ]
        }
      ]
    },
    {
      "cell_type": "code",
      "source": [
        "plt.plot(x,y,'.')"
      ],
      "metadata": {
        "id": "q_SC501IvNyQ",
        "colab": {
          "base_uri": "https://localhost:8080/",
          "height": 179
        },
        "outputId": "777c14cd-2fbd-426f-ec32-604ef54346f3"
      },
      "execution_count": 7,
      "outputs": [
        {
          "output_type": "error",
          "ename": "NameError",
          "evalue": "name 'x' is not defined",
          "traceback": [
            "\u001b[0;31m---------------------------------------------------------------------------\u001b[0m",
            "\u001b[0;31mNameError\u001b[0m                                 Traceback (most recent call last)",
            "\u001b[0;32m<ipython-input-7-0c5e0b1b4542>\u001b[0m in \u001b[0;36m<cell line: 1>\u001b[0;34m()\u001b[0m\n\u001b[0;32m----> 1\u001b[0;31m \u001b[0mplt\u001b[0m\u001b[0;34m.\u001b[0m\u001b[0mplot\u001b[0m\u001b[0;34m(\u001b[0m\u001b[0mx\u001b[0m\u001b[0;34m,\u001b[0m\u001b[0my\u001b[0m\u001b[0;34m,\u001b[0m\u001b[0;34m'.'\u001b[0m\u001b[0;34m)\u001b[0m\u001b[0;34m\u001b[0m\u001b[0;34m\u001b[0m\u001b[0m\n\u001b[0m",
            "\u001b[0;31mNameError\u001b[0m: name 'x' is not defined"
          ]
        }
      ]
    },
    {
      "cell_type": "code",
      "source": [
        "plt.plot(x,y,'r.')"
      ],
      "metadata": {
        "id": "Mp3pHMdSvPcQ",
        "colab": {
          "base_uri": "https://localhost:8080/",
          "height": 179
        },
        "outputId": "d67c8b2c-8048-4949-843a-ba83f801439b"
      },
      "execution_count": 8,
      "outputs": [
        {
          "output_type": "error",
          "ename": "NameError",
          "evalue": "name 'x' is not defined",
          "traceback": [
            "\u001b[0;31m---------------------------------------------------------------------------\u001b[0m",
            "\u001b[0;31mNameError\u001b[0m                                 Traceback (most recent call last)",
            "\u001b[0;32m<ipython-input-8-67c99b7013df>\u001b[0m in \u001b[0;36m<cell line: 1>\u001b[0;34m()\u001b[0m\n\u001b[0;32m----> 1\u001b[0;31m \u001b[0mplt\u001b[0m\u001b[0;34m.\u001b[0m\u001b[0mplot\u001b[0m\u001b[0;34m(\u001b[0m\u001b[0mx\u001b[0m\u001b[0;34m,\u001b[0m\u001b[0my\u001b[0m\u001b[0;34m,\u001b[0m\u001b[0;34m'r.'\u001b[0m\u001b[0;34m)\u001b[0m\u001b[0;34m\u001b[0m\u001b[0;34m\u001b[0m\u001b[0m\n\u001b[0m",
            "\u001b[0;31mNameError\u001b[0m: name 'x' is not defined"
          ]
        }
      ]
    },
    {
      "cell_type": "code",
      "source": [
        "plt.plot(x,y,'b--')"
      ],
      "metadata": {
        "id": "2_sDDZyhvREK",
        "colab": {
          "base_uri": "https://localhost:8080/",
          "height": 179
        },
        "outputId": "2f941c9e-a971-46a3-f4bb-be46fb981554"
      },
      "execution_count": 9,
      "outputs": [
        {
          "output_type": "error",
          "ename": "NameError",
          "evalue": "name 'x' is not defined",
          "traceback": [
            "\u001b[0;31m---------------------------------------------------------------------------\u001b[0m",
            "\u001b[0;31mNameError\u001b[0m                                 Traceback (most recent call last)",
            "\u001b[0;32m<ipython-input-9-b37483b2450b>\u001b[0m in \u001b[0;36m<cell line: 1>\u001b[0;34m()\u001b[0m\n\u001b[0;32m----> 1\u001b[0;31m \u001b[0mplt\u001b[0m\u001b[0;34m.\u001b[0m\u001b[0mplot\u001b[0m\u001b[0;34m(\u001b[0m\u001b[0mx\u001b[0m\u001b[0;34m,\u001b[0m\u001b[0my\u001b[0m\u001b[0;34m,\u001b[0m\u001b[0;34m'b--'\u001b[0m\u001b[0;34m)\u001b[0m\u001b[0;34m\u001b[0m\u001b[0;34m\u001b[0m\u001b[0m\n\u001b[0m",
            "\u001b[0;31mNameError\u001b[0m: name 'x' is not defined"
          ]
        }
      ]
    },
    {
      "cell_type": "code",
      "source": [
        "import matplotlib.pyplot as plt"
      ],
      "metadata": {
        "id": "5xxvUltOiRrY"
      },
      "execution_count": 10,
      "outputs": []
    },
    {
      "cell_type": "code",
      "source": [
        "plt.plot(x,y)"
      ],
      "metadata": {
        "id": "7GqRu33ziRx6",
        "colab": {
          "base_uri": "https://localhost:8080/",
          "height": 179
        },
        "outputId": "2b54d0f0-b569-4199-b9b8-c951c0e7739c"
      },
      "execution_count": 11,
      "outputs": [
        {
          "output_type": "error",
          "ename": "NameError",
          "evalue": "name 'x' is not defined",
          "traceback": [
            "\u001b[0;31m---------------------------------------------------------------------------\u001b[0m",
            "\u001b[0;31mNameError\u001b[0m                                 Traceback (most recent call last)",
            "\u001b[0;32m<ipython-input-11-d8b592bf313e>\u001b[0m in \u001b[0;36m<cell line: 1>\u001b[0;34m()\u001b[0m\n\u001b[0;32m----> 1\u001b[0;31m \u001b[0mplt\u001b[0m\u001b[0;34m.\u001b[0m\u001b[0mplot\u001b[0m\u001b[0;34m(\u001b[0m\u001b[0mx\u001b[0m\u001b[0;34m,\u001b[0m\u001b[0my\u001b[0m\u001b[0;34m)\u001b[0m\u001b[0;34m\u001b[0m\u001b[0;34m\u001b[0m\u001b[0m\n\u001b[0m",
            "\u001b[0;31mNameError\u001b[0m: name 'x' is not defined"
          ]
        }
      ]
    },
    {
      "cell_type": "code",
      "source": [
        "x = np.linspace(0,5,10)"
      ],
      "metadata": {
        "id": "W9d-C2GkpavQ"
      },
      "execution_count": 12,
      "outputs": []
    },
    {
      "cell_type": "code",
      "source": [
        "x"
      ],
      "metadata": {
        "id": "xm4FuiXapaxM",
        "colab": {
          "base_uri": "https://localhost:8080/"
        },
        "outputId": "1efb765f-9bad-4901-c448-62c4daf06e0d"
      },
      "execution_count": 13,
      "outputs": [
        {
          "output_type": "execute_result",
          "data": {
            "text/plain": [
              "array([0.        , 0.55555556, 1.11111111, 1.66666667, 2.22222222,\n",
              "       2.77777778, 3.33333333, 3.88888889, 4.44444444, 5.        ])"
            ]
          },
          "metadata": {},
          "execution_count": 13
        }
      ]
    },
    {
      "cell_type": "code",
      "source": [
        "y = x**2"
      ],
      "metadata": {
        "id": "EFVXNTBlpazx"
      },
      "execution_count": 14,
      "outputs": []
    },
    {
      "cell_type": "code",
      "source": [
        "plt.plot(x,y)"
      ],
      "metadata": {
        "id": "zeDSPzcypa3l",
        "colab": {
          "base_uri": "https://localhost:8080/",
          "height": 448
        },
        "outputId": "3e10789a-fced-49ef-fc4d-37e0ced50980"
      },
      "execution_count": 15,
      "outputs": [
        {
          "output_type": "execute_result",
          "data": {
            "text/plain": [
              "[<matplotlib.lines.Line2D at 0x7985381f1780>]"
            ]
          },
          "metadata": {},
          "execution_count": 15
        },
        {
          "output_type": "display_data",
          "data": {
            "text/plain": [
              "<Figure size 640x480 with 1 Axes>"
            ],
            "image/png": "[encoded data removed]"
          },
          "metadata": {}
        }
      ]
    },
    {
      "cell_type": "code",
      "source": [
        "plt.plot(x,y)\n",
        "plt.title(\"New Graph of x**2\");\n",
        "plt.xlabel(\"x\");\n",
        "plt.ylabel(\"y\");"
      ],
      "metadata": {
        "id": "Ya-NbJXBpa79"
      },
      "execution_count": null,
      "outputs": []
    },
    {
      "cell_type": "code",
      "source": [
        "plt.plot(x,y,label=\"x squared\")\n",
        "plt.title(\"Graph of x**2\");\n",
        "plt.xlabel(\"x\");\n",
        "plt.ylabel(\"y\");\n",
        "plt.legend()"
      ],
      "metadata": {
        "id": "XaKFm2-1iR0D"
      },
      "execution_count": null,
      "outputs": []
    },
    {
      "cell_type": "code",
      "source": [
        "x = np.linspace(0, 2, 100)\n",
        "\n",
        "plt.plot(x, x, label='linear')\n",
        "plt.plot(x, x**2, label='quadratic')\n",
        "plt.plot(x, x**3, label='cubic')\n",
        "\n",
        "plt.xlabel('x label')\n",
        "plt.ylabel('y label')\n",
        "\n",
        "plt.title(\"Simple Plot\")\n",
        "\n",
        "plt.legend()"
      ],
      "metadata": {
        "id": "QySsAtYkCZ-M",
        "colab": {
          "base_uri": "https://localhost:8080/",
          "height": 490
        },
        "outputId": "eb78ff5b-52f6-4089-927d-07d52c8523ef"
      },
      "execution_count": 16,
      "outputs": [
        {
          "output_type": "execute_result",
          "data": {
            "text/plain": [
              "<matplotlib.legend.Legend at 0x79851c3685e0>"
            ]
          },
          "metadata": {},
          "execution_count": 16
        },
        {
          "output_type": "display_data",
          "data": {
            "text/plain": [
              "<Figure size 640x480 with 1 Axes>"
            ],
            "image/png": "[encoded data removed]"
          },
          "metadata": {}
        }
      ]
    },
    {
      "cell_type": "code",
      "source": [
        "labels = 'Frogs', 'Dogs', 'Cats', 'Birds'\n",
        "sizes = [15, 30, 40, 15]\n",
        "explode = (0, 0.1, 0, 0)  # only \"explode\" the 2nd slice (i.e. 'Dogs')\n",
        "\n",
        "fig1, ax1 = plt.subplots()\n",
        "ax1.pie(sizes, explode=explode, labels=labels, autopct='%1.1f%%', shadow=True, startangle=90)\n",
        "ax1.axis('equal')  # Equal aspect ratio ensures that pie is drawn as a circle.\n",
        "plt.show()"
      ],
      "metadata": {
        "id": "GXCljzCzHK8v",
        "colab": {
          "base_uri": "https://localhost:8080/",
          "height": 406
        },
        "outputId": "3923e80d-8f61-4faa-907c-e65098d39fc4"
      },
      "execution_count": 17,
      "outputs": [
        {
          "output_type": "display_data",
          "data": {
            "text/plain": [
              "<Figure size 640x480 with 1 Axes>"
            ],
            "image/png": "[encoded data removed]"
          },
          "metadata": {}
        }
      ]
    },
    {
      "cell_type": "code",
      "source": [
        "import numpy as np\n",
        "import matplotlib.pyplot as plt\n",
        "t = np.arange(1.0, 3.0, 0.01)\n",
        "s = np.sin(2*np.pi*t)\n",
        "\n",
        "plt.plot(t, s)\n",
        "plt.title(r'$\\alpha_i > \\beta_i$', fontsize=20)\n",
        "plt.text(1, -0.6, r'$\\sum_{i=0}^\\infty x_i$', fontsize=20)\n",
        "plt.text(0.5, 0.6, r'$\\mathcal{A}\\mathrm{sin}(2 \\omega t)$',fontsize=15)\n",
        "plt.xlabel('time (s)')\n",
        "plt.ylabel('volts (mV)')\n",
        "plt.show()"
      ],
      "metadata": {
        "id": "cbJTtIWUHKNn",
        "colab": {
          "base_uri": "https://localhost:8080/",
          "height": 482
        },
        "outputId": "9ee6f01a-8960-45ae-9829-a091f3637d2d"
      },
      "execution_count": 28,
      "outputs": [
        {
          "output_type": "display_data",
          "data": {
            "text/plain": [
              "<Figure size 640x480 with 1 Axes>"
            ],
            "image/png": "[encoded data removed]"
          },
          "metadata": {}
        }
      ]
    },
    {
      "cell_type": "markdown",
      "source": [
        "Plot the following functions from $x = -10$ to $x = 10$\n",
        "\n",
        "(Hint: np.sin, np.exp)"
      ],
      "metadata": {
        "id": "aBIah-uiGUXZ"
      }
    },
    {
      "cell_type": "markdown",
      "source": [
        "$y = 10x+7$\n",
        "\n",
        "$y = -3x-12$\n",
        "\n",
        "$y=\\sin(x)$\n",
        "\n",
        "$y=e^x$\n",
        "\n",
        "$y=e^{-x^2}$"
      ],
      "metadata": {
        "id": "5HATIyQyGfEj"
      }
    },
    {
      "cell_type": "code",
      "source": [
        "#I am still figuring out the correlation between the colab and the GitHUb, my guess is to work on here and publish to the git hub.\n",
        "\n",
        "#First function will be y = 10x + 7 between -10 and 10\n",
        "\n",
        "import numpy as np\n",
        "import matplotlib.pyplot as plt #sets up the ability to plot in python\n",
        "\n",
        "x = np.linspace(-10, 10, 20)\n",
        "\n",
        "y = (10 * x) + 7\n",
        "\n",
        "plt.plot(x, y)\n",
        "plt.xlabel('X label')\n",
        "plt.ylabel('Y label')\n",
        "\n",
        "plt.title('Plot #1')\n"
      ],
      "metadata": {
        "colab": {
          "base_uri": "https://localhost:8080/",
          "height": 490
        },
        "id": "uo--Ft-7HMOK",
        "outputId": "d777cd4f-6f67-460b-ef58-3a3959864200"
      },
      "execution_count": 38,
      "outputs": [
        {
          "output_type": "execute_result",
          "data": {
            "text/plain": [
              "Text(0.5, 1.0, 'Plot #1')"
            ]
          },
          "metadata": {},
          "execution_count": 38
        },
        {
          "output_type": "display_data",
          "data": {
            "text/plain": [
              "<Figure size 640x480 with 1 Axes>"
            ],
            "image/png": "[encoded data removed]"
          },
          "metadata": {}
        }
      ]
    },
    {
      "cell_type": "markdown",
      "source": [
        "Pick out a plot of your choice from [here](https://matplotlib.org/stable/gallery/index.html), copy the code to this notebook, run, and document to the best of your abilities."
      ],
      "metadata": {
        "id": "t0g5nhtbHfta"
      }
    },
    {
      "cell_type": "code",
      "source": [
        "import matplotlib.pyplot as plt\n",
        "import numpy as np\n",
        "\n",
        "from matplotlib.colors import Normalize\n",
        "from matplotlib.markers import MarkerStyle\n",
        "from matplotlib.text import TextPath\n",
        "from matplotlib.transforms import Affine2D\n",
        "\n",
        "SUCCESS_SYMBOLS = [\n",
        "    TextPath((0, 0), \"☹\"),\n",
        "    TextPath((0, 0), \"😒\"),\n",
        "    TextPath((0, 0), \"☺\"),\n",
        "]\n",
        "\n",
        "N = 25\n",
        "skills = np.random.uniform(5, 80, size=N) * 0.1 + 5\n",
        "takeoff_angles = np.random.normal(0, 90, N)\n",
        "thrusts = np.random.uniform(size=N)\n",
        "successful = np.random.randint(0, 3, size=N)\n",
        "positions = np.random.normal(size=(N, 2)) * 5\n",
        "data = zip(skills, takeoff_angles, thrusts, successful, positions)\n",
        "\n",
        "cmap = plt.colormaps[\"jet\"]\n",
        "fig, ax = plt.subplots()\n",
        "fig.suptitle(\"Throwing success\", size=14)\n",
        "for skill, takeoff, thrust, mood, pos in data:\n",
        "    t = Affine2D().scale(skill).rotate_deg(takeoff)\n",
        "    m = MarkerStyle(SUCCESS_SYMBOLS[mood], transform=t)\n",
        "    ax.plot(pos[0], pos[1], marker=m, color=cmap(thrust))\n",
        "\n",
        "\n",
        "plt.show()"
      ],
      "metadata": {
        "id": "2LWMYXMCHg6P"
      },
      "execution_count": null,
      "outputs": []
    },
    {
      "cell_type": "code",
      "source": [],
      "metadata": {
        "id": "Zp5utNcWI6Qj"
      },
      "execution_count": null,
      "outputs": []
    },
    {
      "cell_type": "code",
      "source": [],
      "metadata": {
        "id": "ZU7yJ91lI6aS"
      },
      "execution_count": null,
      "outputs": []
    },
    {
      "cell_type": "code",
      "source": [],
      "metadata": {
        "id": "OqlbqmRcI6kY"
      },
      "execution_count": null,
      "outputs": []
    },
    {
      "cell_type": "markdown",
      "source": [
        "### Graphics Output"
      ],
      "metadata": {
        "id": "lrL2Razq9AT7"
      }
    },
    {
      "cell_type": "code",
      "execution_count": null,
      "metadata": {
        "id": "SS8HqWzEEs8l"
      },
      "outputs": [],
      "source": [
        "from IPython.core.display import display, HTML"
      ]
    },
    {
      "cell_type": "code",
      "metadata": {
        "id": "scoPAjX5I36X"
      },
      "source": [
        "display(HTML('<h1>Hello World!</h1>'))"
      ],
      "execution_count": null,
      "outputs": []
    },
    {
      "cell_type": "markdown",
      "source": [
        "### Numpy - Numerical Python"
      ],
      "metadata": {
        "id": "dTOHPs3KFQ2U"
      }
    },
    {
      "cell_type": "code",
      "source": [
        "import numpy as np"
      ],
      "metadata": {
        "id": "BC1S6fo9FOBE"
      },
      "execution_count": null,
      "outputs": []
    },
    {
      "cell_type": "code",
      "source": [
        "np.random.random()"
      ],
      "metadata": {
        "id": "Qo72tOfu5YTm"
      },
      "execution_count": null,
      "outputs": []
    },
    {
      "cell_type": "code",
      "source": [
        "np.random.random() > 0.5;"
      ],
      "metadata": {
        "id": "Ew6vCebg5aXK"
      },
      "execution_count": null,
      "outputs": []
    },
    {
      "cell_type": "code",
      "source": [
        "r = np.random.random(); print(r); r >0.5"
      ],
      "metadata": {
        "id": "9Kxax1cSKi0e"
      },
      "execution_count": null,
      "outputs": []
    },
    {
      "cell_type": "code",
      "source": [
        "r"
      ],
      "metadata": {
        "id": "wGJ6FEojKjB1"
      },
      "execution_count": null,
      "outputs": []
    },
    {
      "cell_type": "code",
      "source": [
        "r > 0.5"
      ],
      "metadata": {
        "id": "mclzEhslKjPP"
      },
      "execution_count": null,
      "outputs": []
    },
    {
      "cell_type": "code",
      "source": [],
      "metadata": {
        "id": "2mcw6yU1KjfO"
      },
      "execution_count": null,
      "outputs": []
    },
    {
      "cell_type": "code",
      "source": [],
      "metadata": {
        "id": "LnQJtIIEKjt-"
      },
      "execution_count": null,
      "outputs": []
    },
    {
      "cell_type": "code",
      "source": [],
      "metadata": {
        "id": "eueTYbXdJ_wy"
      },
      "execution_count": null,
      "outputs": []
    },
    {
      "cell_type": "code",
      "source": [
        "def flip_coin():\n",
        "    if np.random.random() > 0.5:\n",
        "        print(\"Heads\")\n",
        "    else:\n",
        "        print(\"Tails\")"
      ],
      "metadata": {
        "id": "HwbqZHbm5e2u"
      },
      "execution_count": null,
      "outputs": []
    },
    {
      "cell_type": "code",
      "source": [
        "flip_coin()"
      ],
      "metadata": {
        "id": "ZcbnR1ln5sNh"
      },
      "execution_count": null,
      "outputs": []
    },
    {
      "cell_type": "code",
      "source": [
        "np.random.randint(15,20)"
      ],
      "metadata": {
        "id": "VNb9hPJuLqWF"
      },
      "execution_count": null,
      "outputs": []
    },
    {
      "cell_type": "code",
      "metadata": {
        "id": "vFHNmtSRpyXg"
      },
      "source": [
        "def coin():\n",
        "  return np.random.randint(2)"
      ],
      "execution_count": null,
      "outputs": []
    },
    {
      "cell_type": "code",
      "metadata": {
        "id": "AfAPWIjzp2gY"
      },
      "source": [
        "coin()"
      ],
      "execution_count": null,
      "outputs": []
    },
    {
      "cell_type": "code",
      "metadata": {
        "id": "m-fkSNLTp4TH"
      },
      "source": [
        "display(HTML('<img src=\"https://random-ize.com/coin-flip/us-quarter/us-quarter-front.jpg\">'))"
      ],
      "execution_count": null,
      "outputs": []
    },
    {
      "cell_type": "code",
      "metadata": {
        "id": "PAyD2RQrq8ji"
      },
      "source": [
        "heads = 'https://random-ize.com/coin-flip/us-quarter/us-quarter-front.jpg'\n",
        "tails = 'https://random-ize.com/coin-flip/us-quarter/us-quarter-back.jpg'"
      ],
      "execution_count": null,
      "outputs": []
    },
    {
      "cell_type": "code",
      "metadata": {
        "id": "BmZMzsCjrhaV"
      },
      "source": [
        "def show_img(img):\n",
        "  display(HTML('<img src=' + img + '>'))"
      ],
      "execution_count": null,
      "outputs": []
    },
    {
      "cell_type": "code",
      "metadata": {
        "id": "UmSs0Jtrr_d2"
      },
      "source": [
        "show_img(heads)"
      ],
      "execution_count": null,
      "outputs": []
    },
    {
      "cell_type": "code",
      "metadata": {
        "id": "LDcFpan0sBgm"
      },
      "source": [
        "show_img(tails)"
      ],
      "execution_count": null,
      "outputs": []
    },
    {
      "cell_type": "code",
      "metadata": {
        "id": "U1Oe2gBlsFFQ"
      },
      "source": [
        "def flip_coin():\n",
        "\n",
        "    if coin():\n",
        "        show_img(heads)\n",
        "    else:\n",
        "        show_img(tails)"
      ],
      "execution_count": null,
      "outputs": []
    },
    {
      "cell_type": "code",
      "metadata": {
        "id": "qatV0cO1tLAF"
      },
      "source": [
        "flip_coin()"
      ],
      "execution_count": null,
      "outputs": []
    },
    {
      "cell_type": "code",
      "source": [
        "for i in range(5):\n",
        "    flip_coin()"
      ],
      "metadata": {
        "id": "JK_63sBc9ze4"
      },
      "execution_count": null,
      "outputs": []
    },
    {
      "cell_type": "code",
      "source": [],
      "metadata": {
        "id": "cB59QfQgFb4f"
      },
      "execution_count": null,
      "outputs": []
    },
    {
      "cell_type": "code",
      "source": [],
      "metadata": {
        "id": "x6FbWdWHGx8m"
      },
      "execution_count": null,
      "outputs": []
    },
    {
      "cell_type": "markdown",
      "source": [
        "# Cards"
      ],
      "metadata": {
        "id": "xe9KExvXIFDQ"
      }
    },
    {
      "cell_type": "code",
      "source": [],
      "metadata": {
        "id": "whfcIkG8IWER"
      },
      "execution_count": null,
      "outputs": []
    },
    {
      "cell_type": "code",
      "source": [
        "card_url_head = \"https://www.improvemagic.com/wp-content/uploads/2020/11/\"\n",
        "card_url_tail = \".png\""
      ],
      "metadata": {
        "id": "ZuGAbJIC_BGM"
      },
      "execution_count": null,
      "outputs": []
    },
    {
      "cell_type": "code",
      "source": [
        "suit = ['k','p','s','l'] #clubs,spades,hearts,diamonds\n",
        "card = ['a','2','3','4','5','6','7','8','9','10','j','q','k']"
      ],
      "metadata": {
        "id": "FSYUTq2F_BIx"
      },
      "execution_count": null,
      "outputs": []
    },
    {
      "cell_type": "code",
      "source": [
        "i = np.random.randint(4)\n",
        "j = np.random.randint(13)"
      ],
      "metadata": {
        "id": "4UBNVwxU_BL5"
      },
      "execution_count": null,
      "outputs": []
    },
    {
      "cell_type": "code",
      "source": [
        "i,j"
      ],
      "metadata": {
        "id": "pAx5veOKJYqk"
      },
      "execution_count": null,
      "outputs": []
    },
    {
      "cell_type": "code",
      "source": [
        "suit[i]"
      ],
      "metadata": {
        "id": "PJI87rOLADjE"
      },
      "execution_count": null,
      "outputs": []
    },
    {
      "cell_type": "code",
      "source": [
        "card[j]"
      ],
      "metadata": {
        "id": "4CDlPu3QAGrB"
      },
      "execution_count": null,
      "outputs": []
    },
    {
      "cell_type": "code",
      "source": [
        "def card_image(card_number):\n",
        "\n",
        "    i = card_number//13\n",
        "    j = card_number%13\n",
        "\n",
        "    return suit[i]+card[j]"
      ],
      "metadata": {
        "id": "JtqOFl_WAVxd"
      },
      "execution_count": null,
      "outputs": []
    },
    {
      "cell_type": "code",
      "source": [
        "card_image(3)"
      ],
      "metadata": {
        "id": "K1MVgXJ-AVz0"
      },
      "execution_count": null,
      "outputs": []
    },
    {
      "cell_type": "code",
      "source": [
        "img = card_url_head + card_image(3) + card_url_tail"
      ],
      "metadata": {
        "id": "2TGYbXUiB1iw"
      },
      "execution_count": null,
      "outputs": []
    },
    {
      "cell_type": "code",
      "source": [
        "img"
      ],
      "metadata": {
        "id": "_1DG4MhBNRDV"
      },
      "execution_count": null,
      "outputs": []
    },
    {
      "cell_type": "code",
      "source": [
        "show_img(img)"
      ],
      "metadata": {
        "id": "Ve1UcoH3B5sS"
      },
      "execution_count": null,
      "outputs": []
    },
    {
      "cell_type": "code",
      "source": [
        "for i in range(52):\n",
        "    img = card_url_head + card_image(i) + card_url_tail\n",
        "    show_img(img)"
      ],
      "metadata": {
        "id": "UCervcFTB5ut"
      },
      "execution_count": null,
      "outputs": []
    },
    {
      "cell_type": "code",
      "source": [
        "import random\n",
        "\n",
        "def initialize_deck():\n",
        "    #Create and shuffle a deck of 52 cards represented by numbers 0-51.\n",
        "    deck = list(range(52))\n",
        "    random.shuffle(deck)\n",
        "    return deck\n",
        "\n",
        "def draw_cards(deck, top_index, num=5):\n",
        "    drawn_cards = deck[top_index:top_index + num]\n",
        "    return drawn_cards, top_index + num\n",
        "\n",
        "# Initialize and shuffle the deck\n",
        "deck = initialize_deck()\n",
        "top_index = 0  # Start at the beginning of the deck"
      ],
      "metadata": {
        "id": "XiZJmBheIPfo"
      },
      "execution_count": null,
      "outputs": []
    },
    {
      "cell_type": "code",
      "source": [
        "deck"
      ],
      "metadata": {
        "id": "Xa8Sgnm_Z20Z"
      },
      "execution_count": null,
      "outputs": []
    },
    {
      "cell_type": "code",
      "source": [
        "# Draw 5 cards for a poker hand\n",
        "hand, top_index = draw_cards(deck, top_index, 5)"
      ],
      "metadata": {
        "id": "-o6dg7HgZyY-"
      },
      "execution_count": null,
      "outputs": []
    },
    {
      "cell_type": "code",
      "source": [
        "hand"
      ],
      "metadata": {
        "id": "yD7PXNOEZz6y"
      },
      "execution_count": null,
      "outputs": []
    },
    {
      "cell_type": "code",
      "source": [
        "hand, top_index = draw_cards(deck, top_index, 5)"
      ],
      "metadata": {
        "id": "p2k3mE9VZvlL"
      },
      "execution_count": null,
      "outputs": []
    },
    {
      "cell_type": "code",
      "source": [
        "hand"
      ],
      "metadata": {
        "id": "CON4qPmYZ1Cy"
      },
      "execution_count": null,
      "outputs": []
    },
    {
      "cell_type": "code",
      "source": [
        "# Display the hand\n",
        "for card_number in hand:\n",
        "    img_url = card_url_head + card_image(card_number) + card_url_tail\n",
        "    show_img(img_url)"
      ],
      "metadata": {
        "id": "RJC98zl-YDi1"
      },
      "execution_count": null,
      "outputs": []
    },
    {
      "cell_type": "code",
      "source": [
        "def show_hand(hand):\n",
        "    images_html = ''.join([f'<img src=\"{card_url_head + card_image(card_number) + card_url_tail}\" style=\"display:inline-block; margin:5px;\" />' for card_number in hand])\n",
        "    display(HTML(images_html))\n",
        "\n",
        "show_hand(hand)\n"
      ],
      "metadata": {
        "id": "JMciwLZZYfAA"
      },
      "execution_count": null,
      "outputs": []
    },
    {
      "cell_type": "code",
      "source": [],
      "metadata": {
        "id": "4pSVdfBDaESe"
      },
      "execution_count": null,
      "outputs": []
    },
    {
      "cell_type": "code",
      "source": [],
      "metadata": {
        "id": "CIyFI0YraEZ2"
      },
      "execution_count": null,
      "outputs": []
    },
    {
      "cell_type": "markdown",
      "source": [
        "# Rank Hand"
      ],
      "metadata": {
        "id": "P8xGcQSuauDT"
      }
    },
    {
      "cell_type": "code",
      "source": [
        "def evaluate_hand(hand):\n",
        "    rank_values = {'2': 2, '3': 3, '4': 4, '5': 5, '6': 6, '7': 7, '8': 8, '9': 9, '10': 10, 'j': 11, 'q': 12, 'k': 13, 'a': 14}\n",
        "    suits = ['k', 'p', 's', 'l']  # clubs, spades, hearts, diamonds\n",
        "\n",
        "    # Convert the hand to a list of (rank, suit) tuples\n",
        "    converted_hand = [(rank_values[card[card_number % 13]], suits[card_number // 13]) for card_number in hand]\n",
        "    converted_hand.sort()\n",
        "\n",
        "    rank_counts = {rank: 0 for rank in rank_values.values()}\n",
        "    suit_counts = {suit: 0 for suit in suits}\n",
        "    for rank, suit in converted_hand:\n",
        "        rank_counts[rank] += 1\n",
        "        suit_counts[suit] += 1\n",
        "\n",
        "    # Check for flush\n",
        "    is_flush = max(suit_counts.values()) == 5\n",
        "\n",
        "    # Check for straight and royal flush\n",
        "    rank_sequence = [rank for rank, _ in converted_hand]\n",
        "    is_straight = all(rank_sequence[i] - rank_sequence[i - 1] == 1 for i in range(1, 5))\n",
        "    is_royal = is_straight and rank_sequence[0] == 10\n",
        "\n",
        "    # Check for other hand types\n",
        "    pairs = sum(1 for count in rank_counts.values() if count == 2)\n",
        "    three_of_a_kind = 3 in rank_counts.values()\n",
        "    four_of_a_kind = 4 in rank_counts.values()\n",
        "\n",
        "    if is_royal and is_flush:\n",
        "        return \"Royal Flush\"\n",
        "    elif is_straight and is_flush:\n",
        "        return \"Straight Flush\"\n",
        "    elif four_of_a_kind:\n",
        "        return \"Four of a Kind\"\n",
        "    elif three_of_a_kind and pairs == 1:\n",
        "        return \"Full House\"\n",
        "    elif is_flush:\n",
        "        return \"Flush\"\n",
        "    elif is_straight:\n",
        "        return \"Straight\"\n",
        "    elif three_of_a_kind:\n",
        "        return \"Three of a Kind\"\n",
        "    elif pairs == 2:\n",
        "        return \"Two Pair\"\n",
        "    elif pairs == 1:\n",
        "        return \"One Pair\"\n",
        "    else:\n",
        "        return \"High Card\""
      ],
      "metadata": {
        "id": "5X7L14IXXwB1"
      },
      "execution_count": null,
      "outputs": []
    },
    {
      "cell_type": "code",
      "source": [],
      "metadata": {
        "id": "88Ln53YKaPFs"
      },
      "execution_count": null,
      "outputs": []
    },
    {
      "cell_type": "code",
      "source": [
        "# Initialize and shuffle the deck\n",
        "deck = initialize_deck()\n",
        "top_index = 0  # Start at the beginning of the deck\n",
        "\n",
        "hand, top_index = draw_cards(deck, top_index, 5)\n",
        "\n",
        "\n",
        "print(evaluate_hand(hand))\n",
        "show_hand(hand)"
      ],
      "metadata": {
        "id": "9n4BkXCgaPIN"
      },
      "execution_count": null,
      "outputs": []
    },
    {
      "cell_type": "code",
      "source": [],
      "metadata": {
        "id": "Gvkbf51BYrQN"
      },
      "execution_count": null,
      "outputs": []
    },
    {
      "cell_type": "code",
      "source": [
        "for i in range(10):\n",
        "    # Initialize and shuffle the deck\n",
        "    deck = initialize_deck()\n",
        "    top_index = 0  # Start at the beginning of the deck\n",
        "\n",
        "    hand, top_index = draw_cards(deck, top_index, 5)\n",
        "\n",
        "\n",
        "    print(evaluate_hand(hand))\n",
        "    show_hand(hand)"
      ],
      "metadata": {
        "id": "3Nio0wmHajqT"
      },
      "execution_count": null,
      "outputs": []
    },
    {
      "cell_type": "code",
      "source": [],
      "metadata": {
        "id": "vJSv5gqMYwpD"
      },
      "execution_count": null,
      "outputs": []
    },
    {
      "cell_type": "code",
      "source": [
        "for i in range(100):\n",
        "    # Initialize and shuffle the deck\n",
        "    deck = initialize_deck()\n",
        "    top_index = 0  # Start at the beginning of the deck\n",
        "\n",
        "    hand, top_index = draw_cards(deck, top_index, 5)\n",
        "\n",
        "    if evaluate_hand(hand) == \"Two Pair\":\n",
        "        print(\"Winner!\")\n",
        "        show_hand(hand)"
      ],
      "metadata": {
        "id": "4fjPFjdOYySY"
      },
      "execution_count": null,
      "outputs": []
    },
    {
      "cell_type": "code",
      "source": [],
      "metadata": {
        "id": "aZ-ii6TCbps5"
      },
      "execution_count": null,
      "outputs": []
    },
    {
      "cell_type": "code",
      "source": [
        "for i in range(1000):\n",
        "    # Initialize and shuffle the deck\n",
        "    deck = initialize_deck()\n",
        "    top_index = 0  # Start at the beginning of the deck\n",
        "\n",
        "    hand, top_index = draw_cards(deck, top_index, 5)\n",
        "\n",
        "    if evaluate_hand(hand) == \"Flush\":\n",
        "        print(\"Winner!\")\n",
        "        show_hand(hand)"
      ],
      "metadata": {
        "id": "ELMqN8vmbp5h"
      },
      "execution_count": null,
      "outputs": []
    },
    {
      "cell_type": "code",
      "source": [
        "%%timeit\n",
        "# Initialize and shuffle the deck\n",
        "deck = initialize_deck()\n",
        "top_index = 0  # Start at the beginning of the deck\n",
        "\n",
        "hand, top_index = draw_cards(deck, top_index, 5)\n",
        "\n",
        "if evaluate_hand(hand) == \"Royal Flush\":\n",
        "    print(\"Winner!\")\n",
        "    show_hand(hand)"
      ],
      "metadata": {
        "id": "Hiwjc2wDcA-W"
      },
      "execution_count": null,
      "outputs": []
    },
    {
      "cell_type": "code",
      "source": [
        "for i in range(1000000):\n",
        "    # Initialize and shuffle the deck\n",
        "    deck = initialize_deck()\n",
        "    top_index = 0  # Start at the beginning of the deck\n",
        "\n",
        "    hand, top_index = draw_cards(deck, top_index, 5)\n",
        "\n",
        "    if evaluate_hand(hand) == \"Royal Flush\":\n",
        "        print(\"Winner!\")\n",
        "        show_hand(hand)\n"
      ],
      "metadata": {
        "id": "MfZ17tITbb2N"
      },
      "execution_count": null,
      "outputs": []
    },
    {
      "cell_type": "code",
      "source": [],
      "metadata": {
        "id": "br1RRi_poHej"
      },
      "execution_count": null,
      "outputs": []
    },
    {
      "cell_type": "code",
      "source": [
        "wins = 0\n",
        "N = 10000000\n",
        "\n",
        "for i in range(N):\n",
        "    # Initialize and shuffle the deck\n",
        "    deck = initialize_deck()\n",
        "    top_index = 0  # Start at the beginning of the deck\n",
        "\n",
        "    hand, top_index = draw_cards(deck, top_index, 5)\n",
        "\n",
        "    if evaluate_hand(hand) == \"Royal Flush\":\n",
        "        wins += 1\n",
        "        print(\"Winner!\")\n",
        "        show_hand(hand)"
      ],
      "metadata": {
        "colab": {
          "base_uri": "https://localhost:8080/",
          "height": 1000
        },
        "id": "rU4xfCSPoHjR",
        "outputId": "0b74991c-c661-4784-e8c5-b81712b6e0a5"
      },
      "execution_count": null,
      "outputs": [
        {
          "output_type": "stream",
          "name": "stdout",
          "text": [
            "Winner!\n"
          ]
        },
        {
          "output_type": "display_data",
          "data": {
            "text/plain": [
              "<IPython.core.display.HTML object>"
            ],
            "text/html": [
              "<img src=\"https://www.improvemagic.com/wp-content/uploads/2020/11/lq.png\" style=\"display:inline-block; margin:5px;\" /><img src=\"https://www.improvemagic.com/wp-content/uploads/2020/11/lj.png\" style=\"display:inline-block; margin:5px;\" /><img src=\"https://www.improvemagic.com/wp-content/uploads/2020/11/la.png\" style=\"display:inline-block; margin:5px;\" /><img src=\"https://www.improvemagic.com/wp-content/uploads/2020/11/l10.png\" style=\"display:inline-block; margin:5px;\" /><img src=\"https://www.improvemagic.com/wp-content/uploads/2020/11/lk.png\" style=\"display:inline-block; margin:5px;\" />"
            ]
          },
          "metadata": {}
        },
        {
          "output_type": "stream",
          "name": "stdout",
          "text": [
            "Winner!\n"
          ]
        },
        {
          "output_type": "display_data",
          "data": {
            "text/plain": [
              "<IPython.core.display.HTML object>"
            ],
            "text/html": [
              "<img src=\"https://www.improvemagic.com/wp-content/uploads/2020/11/p10.png\" style=\"display:inline-block; margin:5px;\" /><img src=\"https://www.improvemagic.com/wp-content/uploads/2020/11/pq.png\" style=\"display:inline-block; margin:5px;\" /><img src=\"https://www.improvemagic.com/wp-content/uploads/2020/11/pj.png\" style=\"display:inline-block; margin:5px;\" /><img src=\"https://www.improvemagic.com/wp-content/uploads/2020/11/pa.png\" style=\"display:inline-block; margin:5px;\" /><img src=\"https://www.improvemagic.com/wp-content/uploads/2020/11/pk.png\" style=\"display:inline-block; margin:5px;\" />"
            ]
          },
          "metadata": {}
        },
        {
          "output_type": "stream",
          "name": "stdout",
          "text": [
            "Winner!\n"
          ]
        },
        {
          "output_type": "display_data",
          "data": {
            "text/plain": [
              "<IPython.core.display.HTML object>"
            ],
            "text/html": [
              "<img src=\"https://www.improvemagic.com/wp-content/uploads/2020/11/lq.png\" style=\"display:inline-block; margin:5px;\" /><img src=\"https://www.improvemagic.com/wp-content/uploads/2020/11/lj.png\" style=\"display:inline-block; margin:5px;\" /><img src=\"https://www.improvemagic.com/wp-content/uploads/2020/11/lk.png\" style=\"display:inline-block; margin:5px;\" /><img src=\"https://www.improvemagic.com/wp-content/uploads/2020/11/l10.png\" style=\"display:inline-block; margin:5px;\" /><img src=\"https://www.improvemagic.com/wp-content/uploads/2020/11/la.png\" style=\"display:inline-block; margin:5px;\" />"
            ]
          },
          "metadata": {}
        },
        {
          "output_type": "stream",
          "name": "stdout",
          "text": [
            "Winner!\n"
          ]
        },
        {
          "output_type": "display_data",
          "data": {
            "text/plain": [
              "<IPython.core.display.HTML object>"
            ],
            "text/html": [
              "<img src=\"https://www.improvemagic.com/wp-content/uploads/2020/11/p10.png\" style=\"display:inline-block; margin:5px;\" /><img src=\"https://www.improvemagic.com/wp-content/uploads/2020/11/pq.png\" style=\"display:inline-block; margin:5px;\" /><img src=\"https://www.improvemagic.com/wp-content/uploads/2020/11/pk.png\" style=\"display:inline-block; margin:5px;\" /><img src=\"https://www.improvemagic.com/wp-content/uploads/2020/11/pj.png\" style=\"display:inline-block; margin:5px;\" /><img src=\"https://www.improvemagic.com/wp-content/uploads/2020/11/pa.png\" style=\"display:inline-block; margin:5px;\" />"
            ]
          },
          "metadata": {}
        },
        {
          "output_type": "stream",
          "name": "stdout",
          "text": [
            "Winner!\n"
          ]
        },
        {
          "output_type": "display_data",
          "data": {
            "text/plain": [
              "<IPython.core.display.HTML object>"
            ],
            "text/html": [
              "<img src=\"https://www.improvemagic.com/wp-content/uploads/2020/11/lk.png\" style=\"display:inline-block; margin:5px;\" /><img src=\"https://www.improvemagic.com/wp-content/uploads/2020/11/l10.png\" style=\"display:inline-block; margin:5px;\" /><img src=\"https://www.improvemagic.com/wp-content/uploads/2020/11/lj.png\" style=\"display:inline-block; margin:5px;\" /><img src=\"https://www.improvemagic.com/wp-content/uploads/2020/11/lq.png\" style=\"display:inline-block; margin:5px;\" /><img src=\"https://www.improvemagic.com/wp-content/uploads/2020/11/la.png\" style=\"display:inline-block; margin:5px;\" />"
            ]
          },
          "metadata": {}
        },
        {
          "output_type": "stream",
          "name": "stdout",
          "text": [
            "Winner!\n"
          ]
        },
        {
          "output_type": "display_data",
          "data": {
            "text/plain": [
              "<IPython.core.display.HTML object>"
            ],
            "text/html": [
              "<img src=\"https://www.improvemagic.com/wp-content/uploads/2020/11/sk.png\" style=\"display:inline-block; margin:5px;\" /><img src=\"https://www.improvemagic.com/wp-content/uploads/2020/11/sa.png\" style=\"display:inline-block; margin:5px;\" /><img src=\"https://www.improvemagic.com/wp-content/uploads/2020/11/s10.png\" style=\"display:inline-block; margin:5px;\" /><img src=\"https://www.improvemagic.com/wp-content/uploads/2020/11/sq.png\" style=\"display:inline-block; margin:5px;\" /><img src=\"https://www.improvemagic.com/wp-content/uploads/2020/11/sj.png\" style=\"display:inline-block; margin:5px;\" />"
            ]
          },
          "metadata": {}
        },
        {
          "output_type": "stream",
          "name": "stdout",
          "text": [
            "Winner!\n"
          ]
        },
        {
          "output_type": "display_data",
          "data": {
            "text/plain": [
              "<IPython.core.display.HTML object>"
            ],
            "text/html": [
              "<img src=\"https://www.improvemagic.com/wp-content/uploads/2020/11/lk.png\" style=\"display:inline-block; margin:5px;\" /><img src=\"https://www.improvemagic.com/wp-content/uploads/2020/11/la.png\" style=\"display:inline-block; margin:5px;\" /><img src=\"https://www.improvemagic.com/wp-content/uploads/2020/11/lj.png\" style=\"display:inline-block; margin:5px;\" /><img src=\"https://www.improvemagic.com/wp-content/uploads/2020/11/lq.png\" style=\"display:inline-block; margin:5px;\" /><img src=\"https://www.improvemagic.com/wp-content/uploads/2020/11/l10.png\" style=\"display:inline-block; margin:5px;\" />"
            ]
          },
          "metadata": {}
        },
        {
          "output_type": "stream",
          "name": "stdout",
          "text": [
            "Winner!\n"
          ]
        },
        {
          "output_type": "display_data",
          "data": {
            "text/plain": [
              "<IPython.core.display.HTML object>"
            ],
            "text/html": [
              "<img src=\"https://www.improvemagic.com/wp-content/uploads/2020/11/pa.png\" style=\"display:inline-block; margin:5px;\" /><img src=\"https://www.improvemagic.com/wp-content/uploads/2020/11/pk.png\" style=\"display:inline-block; margin:5px;\" /><img src=\"https://www.improvemagic.com/wp-content/uploads/2020/11/pq.png\" style=\"display:inline-block; margin:5px;\" /><img src=\"https://www.improvemagic.com/wp-content/uploads/2020/11/p10.png\" style=\"display:inline-block; margin:5px;\" /><img src=\"https://www.improvemagic.com/wp-content/uploads/2020/11/pj.png\" style=\"display:inline-block; margin:5px;\" />"
            ]
          },
          "metadata": {}
        },
        {
          "output_type": "stream",
          "name": "stdout",
          "text": [
            "Winner!\n"
          ]
        },
        {
          "output_type": "display_data",
          "data": {
            "text/plain": [
              "<IPython.core.display.HTML object>"
            ],
            "text/html": [
              "<img src=\"https://www.improvemagic.com/wp-content/uploads/2020/11/sa.png\" style=\"display:inline-block; margin:5px;\" /><img src=\"https://www.improvemagic.com/wp-content/uploads/2020/11/sj.png\" style=\"display:inline-block; margin:5px;\" /><img src=\"https://www.improvemagic.com/wp-content/uploads/2020/11/sk.png\" style=\"display:inline-block; margin:5px;\" /><img src=\"https://www.improvemagic.com/wp-content/uploads/2020/11/sq.png\" style=\"display:inline-block; margin:5px;\" /><img src=\"https://www.improvemagic.com/wp-content/uploads/2020/11/s10.png\" style=\"display:inline-block; margin:5px;\" />"
            ]
          },
          "metadata": {}
        },
        {
          "output_type": "stream",
          "name": "stdout",
          "text": [
            "Winner!\n"
          ]
        },
        {
          "output_type": "display_data",
          "data": {
            "text/plain": [
              "<IPython.core.display.HTML object>"
            ],
            "text/html": [
              "<img src=\"https://www.improvemagic.com/wp-content/uploads/2020/11/k10.png\" style=\"display:inline-block; margin:5px;\" /><img src=\"https://www.improvemagic.com/wp-content/uploads/2020/11/kk.png\" style=\"display:inline-block; margin:5px;\" /><img src=\"https://www.improvemagic.com/wp-content/uploads/2020/11/kq.png\" style=\"display:inline-block; margin:5px;\" /><img src=\"https://www.improvemagic.com/wp-content/uploads/2020/11/kj.png\" style=\"display:inline-block; margin:5px;\" /><img src=\"https://www.improvemagic.com/wp-content/uploads/2020/11/ka.png\" style=\"display:inline-block; margin:5px;\" />"
            ]
          },
          "metadata": {}
        },
        {
          "output_type": "stream",
          "name": "stdout",
          "text": [
            "Winner!\n"
          ]
        },
        {
          "output_type": "display_data",
          "data": {
            "text/plain": [
              "<IPython.core.display.HTML object>"
            ],
            "text/html": [
              "<img src=\"https://www.improvemagic.com/wp-content/uploads/2020/11/pq.png\" style=\"display:inline-block; margin:5px;\" /><img src=\"https://www.improvemagic.com/wp-content/uploads/2020/11/pa.png\" style=\"display:inline-block; margin:5px;\" /><img src=\"https://www.improvemagic.com/wp-content/uploads/2020/11/pk.png\" style=\"display:inline-block; margin:5px;\" /><img src=\"https://www.improvemagic.com/wp-content/uploads/2020/11/p10.png\" style=\"display:inline-block; margin:5px;\" /><img src=\"https://www.improvemagic.com/wp-content/uploads/2020/11/pj.png\" style=\"display:inline-block; margin:5px;\" />"
            ]
          },
          "metadata": {}
        },
        {
          "output_type": "stream",
          "name": "stdout",
          "text": [
            "Winner!\n"
          ]
        },
        {
          "output_type": "display_data",
          "data": {
            "text/plain": [
              "<IPython.core.display.HTML object>"
            ],
            "text/html": [
              "<img src=\"https://www.improvemagic.com/wp-content/uploads/2020/11/kk.png\" style=\"display:inline-block; margin:5px;\" /><img src=\"https://www.improvemagic.com/wp-content/uploads/2020/11/k10.png\" style=\"display:inline-block; margin:5px;\" /><img src=\"https://www.improvemagic.com/wp-content/uploads/2020/11/ka.png\" style=\"display:inline-block; margin:5px;\" /><img src=\"https://www.improvemagic.com/wp-content/uploads/2020/11/kj.png\" style=\"display:inline-block; margin:5px;\" /><img src=\"https://www.improvemagic.com/wp-content/uploads/2020/11/kq.png\" style=\"display:inline-block; margin:5px;\" />"
            ]
          },
          "metadata": {}
        },
        {
          "output_type": "stream",
          "name": "stdout",
          "text": [
            "Winner!\n"
          ]
        },
        {
          "output_type": "display_data",
          "data": {
            "text/plain": [
              "<IPython.core.display.HTML object>"
            ],
            "text/html": [
              "<img src=\"https://www.improvemagic.com/wp-content/uploads/2020/11/k10.png\" style=\"display:inline-block; margin:5px;\" /><img src=\"https://www.improvemagic.com/wp-content/uploads/2020/11/kj.png\" style=\"display:inline-block; margin:5px;\" /><img src=\"https://www.improvemagic.com/wp-content/uploads/2020/11/ka.png\" style=\"display:inline-block; margin:5px;\" /><img src=\"https://www.improvemagic.com/wp-content/uploads/2020/11/kk.png\" style=\"display:inline-block; margin:5px;\" /><img src=\"https://www.improvemagic.com/wp-content/uploads/2020/11/kq.png\" style=\"display:inline-block; margin:5px;\" />"
            ]
          },
          "metadata": {}
        },
        {
          "output_type": "stream",
          "name": "stdout",
          "text": [
            "Winner!\n"
          ]
        },
        {
          "output_type": "display_data",
          "data": {
            "text/plain": [
              "<IPython.core.display.HTML object>"
            ],
            "text/html": [
              "<img src=\"https://www.improvemagic.com/wp-content/uploads/2020/11/lj.png\" style=\"display:inline-block; margin:5px;\" /><img src=\"https://www.improvemagic.com/wp-content/uploads/2020/11/l10.png\" style=\"display:inline-block; margin:5px;\" /><img src=\"https://www.improvemagic.com/wp-content/uploads/2020/11/lq.png\" style=\"display:inline-block; margin:5px;\" /><img src=\"https://www.improvemagic.com/wp-content/uploads/2020/11/la.png\" style=\"display:inline-block; margin:5px;\" /><img src=\"https://www.improvemagic.com/wp-content/uploads/2020/11/lk.png\" style=\"display:inline-block; margin:5px;\" />"
            ]
          },
          "metadata": {}
        }
      ]
    },
    {
      "cell_type": "code",
      "source": [
        "wins/N"
      ],
      "metadata": {
        "id": "Q7WDJidEw7yT",
        "outputId": "95435b29-168c-4637-d933-e376a78f33be",
        "colab": {
          "base_uri": "https://localhost:8080/"
        }
      },
      "execution_count": null,
      "outputs": [
        {
          "output_type": "execute_result",
          "data": {
            "text/plain": [
              "1.4e-06"
            ]
          },
          "metadata": {},
          "execution_count": 241
        }
      ]
    },
    {
      "cell_type": "code",
      "source": [],
      "metadata": {
        "id": "Erx7P3YYb9jx"
      },
      "execution_count": null,
      "outputs": []
    }
  ]
}